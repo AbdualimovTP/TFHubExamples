{
  "nbformat": 4,
  "nbformat_minor": 0,
  "metadata": {
    "colab": {
      "name": "only_image_colab.ipynb",
      "provenance": [],
      "collapsed_sections": []
    },
    "kernelspec": {
      "name": "python3",
      "display_name": "Python 3"
    },
    "accelerator": "GPU"
  },
  "cells": [
    {
      "cell_type": "code",
      "metadata": {
        "id": "iS6skDk5HK0R",
        "colab": {
          "base_uri": "https://localhost:8080/",
          "height": 122
        },
        "outputId": "135f6d95-c589-4724-c5c9-463ceb79af7d"
      },
      "source": [
        "# подключаем гугл-диск\n",
        "\n",
        "from google.colab import drive\n",
        "drive.mount('/content/drive')"
      ],
      "execution_count": null,
      "outputs": [
        {
          "output_type": "stream",
          "text": [
            "Go to this URL in a browser: https://accounts.google.com/o/oauth2/auth?client_id=947318989803-6bn6qk8qdgf4n4g3pfee6491hc0brc4i.apps.googleusercontent.com&redirect_uri=urn%3aietf%3awg%3aoauth%3a2.0%3aoob&response_type=code&scope=email%20https%3a%2f%2fwww.googleapis.com%2fauth%2fdocs.test%20https%3a%2f%2fwww.googleapis.com%2fauth%2fdrive%20https%3a%2f%2fwww.googleapis.com%2fauth%2fdrive.photos.readonly%20https%3a%2f%2fwww.googleapis.com%2fauth%2fpeopleapi.readonly\n",
            "\n",
            "Enter your authorization code:\n",
            "··········\n",
            "Mounted at /content/drive\n"
          ],
          "name": "stdout"
        }
      ]
    },
    {
      "cell_type": "code",
      "metadata": {
        "id": "grKlpjgUGnIU"
      },
      "source": [
        "import pandas as pd\n",
        "import numpy as np\n",
        "import tensorflow_hub as hub\n",
        "import tensorflow as tf\n",
        "from tensorflow.keras.layers import *\n",
        "from tensorflow.keras import backend as K\n",
        "from tensorflow.keras.models import Model\n",
        "from tensorflow.keras.preprocessing.image import ImageDataGenerator\n",
        "from tensorflow.keras.utils import plot_model\n",
        "from tensorflow.keras.metrics import Accuracy, Precision, Recall, AUC, TrueNegatives, TruePositives, FalseNegatives, FalsePositives\n",
        "\n",
        "import matplotlib.pyplot as plt\n",
        "\n",
        "import PIL\n",
        "from PIL import Image\n",
        "import os\n",
        "\n",
        "from sklearn.preprocessing import MinMaxScaler\n",
        "\n",
        "def f1(y_true, y_pred):\n",
        "    y_true = K.flatten(y_true)\n",
        "    y_pred = K.flatten(y_pred)\n",
        "    return 2 * (K.sum(y_true * y_pred)+ K.epsilon()) / (K.sum(y_true) + K.sum(y_pred) + K.epsilon())\n",
        "\n",
        "def plot_history(history):\n",
        "  hist = pd.DataFrame(history.history)\n",
        "  hist['epoch'] = history.epoch\n",
        "\n",
        "  plt.figure()\n",
        "  plt.xlabel('Epoch')\n",
        "  plt.ylabel('AUC')\n",
        "  plt.plot(hist['epoch'], hist['auc'],\n",
        "           label='Train Error')\n",
        "  plt.plot(hist['epoch'], hist['val_auc'],\n",
        "           label = 'Val Error')\n",
        "  #plt.ylim([0,5])\n",
        "  plt.legend()\n",
        "\n",
        "  plt.figure()\n",
        "  plt.xlabel('Epoch')\n",
        "  plt.ylabel('F1_score')\n",
        "  plt.plot(hist['epoch'], hist['f1'],\n",
        "           label='Train Error')\n",
        "  plt.plot(hist['epoch'], hist['val_f1'],\n",
        "           label = 'Val Error')\n",
        "  plt.legend()\n",
        "  plt.show()"
      ],
      "execution_count": null,
      "outputs": []
    },
    {
      "cell_type": "code",
      "metadata": {
        "id": "NC7xqHKMHBIT"
      },
      "source": [
        "data = pd.read_csv('/content/drive/My Drive/IMAGE_DATA_COR/DP_cor.csv', sep=';')\n",
        "for i in [\n",
        "    'trunk_st', \n",
        "    'LAD_st',\n",
        "    'lcx_stenosis',\n",
        "    'RCA_stenosis'\n",
        "]:\n",
        "    data[i] = data[i].apply(lambda x: 1 if x >= 50 else 0)\n",
        "\n",
        "X = data.iloc[:,1:23]\n",
        "scaler = MinMaxScaler(feature_range=(0, 1))\n",
        "X[X.columns] = scaler.fit_transform(X[X.columns])\n",
        "y1 = data.iloc[:,23:-1]\n",
        "\n",
        "test = pd.read_csv('/content/drive/My Drive/IMAGE_DATA_COR/test_DL.csv', sep=';')\n",
        "for i in [\n",
        "    'trunk_st', \n",
        "    'LAD_st',\n",
        "    'lcx_stenosis',\n",
        "    'RCA_stenosis'\n",
        "]:\n",
        "    test[i] = test[i].apply(lambda x: 1 if x >= 50 else 0)\n",
        "    \n",
        "X_test = test.iloc[:,1:23]\n",
        "scaler = MinMaxScaler(feature_range=(0, 1))\n",
        "X_test[X_test.columns] = scaler.fit_transform(X_test[X_test.columns])\n",
        "y_test = test.iloc[:,23:-1]\n",
        "\n",
        "data_image_test = []\n",
        "for k in os.listdir('/content/drive/My Drive/IMAGE_DATA_COR/TEST-ECG'):\n",
        "    if k.endswith('.jpg'):\n",
        "        img = Image.open('/content/drive/My Drive/IMAGE_DATA_COR/TEST-ECG/'+k)\n",
        "        #img = img.convert('L')\n",
        "        img = img.resize((224, 224))\n",
        "        data_image_test += [np.array(img) / 255.]\n",
        "data_image = []\n",
        "for k in os.listdir('/content/drive/My Drive/IMAGE_DATA_COR/ЭКГ'):\n",
        "    if k.endswith('.jpg'):\n",
        "        img = Image.open('/content/drive/My Drive/IMAGE_DATA_COR/ЭКГ/'+k)\n",
        "        #img = img.convert('L')\n",
        "        img = img.resize((224, 224))\n",
        "        data_image += [np.array(img) / 255.]"
      ],
      "execution_count": null,
      "outputs": []
    },
    {
      "cell_type": "code",
      "metadata": {
        "id": "pSuMXI1GH689",
        "colab": {
          "base_uri": "https://localhost:8080/",
          "height": 255
        },
        "outputId": "22295b9d-f4a9-4a9c-c8ea-f42745e10b86"
      },
      "source": [
        "feature_extractor_url = 'https://tfhub.dev/tensorflow/efficientnet/b3/feature-vector/1'\n",
        "hub_layer_1 = hub.KerasLayer(feature_extractor_url, input_shape=((224, 224)+ (3,)), trainable=True)\n",
        "\n",
        "tf.keras.backend.clear_session()\n",
        "\n",
        "input_1 = Input(shape=(224, 224, 3), name = \"Input_image\")\n",
        "x = hub_layer_1(input_1)\n",
        "#x = Dropout(0.8)(x)\n",
        "#x = Dense(128, activation=\"elu\")(x)\n",
        "predictions = Dense(13, activation=\"sigmoid\")(x)\n",
        "\n",
        "mod = Model(inputs=input_1, outputs=predictions)\n",
        "\n",
        "mod.compile(optimizer='adam', loss='binary_crossentropy', metrics=['AUC', f1])\n",
        "mod.summary()"
      ],
      "execution_count": null,
      "outputs": [
        {
          "output_type": "stream",
          "text": [
            "Model: \"model\"\n",
            "_________________________________________________________________\n",
            "Layer (type)                 Output Shape              Param #   \n",
            "=================================================================\n",
            "Input_image (InputLayer)     [(None, 224, 224, 3)]     0         \n",
            "_________________________________________________________________\n",
            "keras_layer (KerasLayer)     (None, 1536)              10783528  \n",
            "_________________________________________________________________\n",
            "dense (Dense)                (None, 13)                19981     \n",
            "=================================================================\n",
            "Total params: 10,803,509\n",
            "Trainable params: 10,716,213\n",
            "Non-trainable params: 87,296\n",
            "_________________________________________________________________\n"
          ],
          "name": "stdout"
        }
      ]
    },
    {
      "cell_type": "code",
      "metadata": {
        "id": "5Hoq3vOpIUcV",
        "colab": {
          "base_uri": "https://localhost:8080/",
          "height": 697
        },
        "outputId": "e29d817c-997d-41bc-f3ee-1e7cfe03bedf"
      },
      "source": [
        "batch_size = 50\n",
        "\n",
        "history = mod.fit( \n",
        "np.array(data_image), y1,\n",
        "batch_size = batch_size,\n",
        "steps_per_epoch=2,     #len(data_image)//batch_size,\n",
        "validation_split=0.1,\n",
        "epochs=20,\n",
        "shuffle=True,\n",
        "verbose=1\n",
        ")"
      ],
      "execution_count": null,
      "outputs": [
        {
          "output_type": "stream",
          "text": [
            "Epoch 1/20\n",
            "2/2 [==============================] - 3s 1s/step - loss: 0.8379 - auc: 0.5576 - f1: 0.3095 - val_loss: 0.9094 - val_auc: 0.3338 - val_f1: 0.2071\n",
            "Epoch 2/20\n",
            "2/2 [==============================] - 1s 366ms/step - loss: 0.6234 - auc: 0.9171 - f1: 0.4249 - val_loss: 0.8871 - val_auc: 0.3242 - val_f1: 0.2027\n",
            "Epoch 3/20\n",
            "2/2 [==============================] - 1s 381ms/step - loss: 0.4948 - auc: 0.9598 - f1: 0.5231 - val_loss: 0.8511 - val_auc: 0.3248 - val_f1: 0.1968\n",
            "Epoch 4/20\n",
            "2/2 [==============================] - 1s 371ms/step - loss: 0.3937 - auc: 0.9860 - f1: 0.6355 - val_loss: 0.7597 - val_auc: 0.3893 - val_f1: 0.1887\n",
            "Epoch 5/20\n",
            "2/2 [==============================] - 1s 362ms/step - loss: 0.3387 - auc: 0.9932 - f1: 0.7156 - val_loss: 0.7053 - val_auc: 0.4375 - val_f1: 0.1708\n",
            "Epoch 6/20\n",
            "2/2 [==============================] - 1s 361ms/step - loss: 0.3011 - auc: 0.9951 - f1: 0.7769 - val_loss: 0.7025 - val_auc: 0.4779 - val_f1: 0.1504\n",
            "Epoch 7/20\n",
            "2/2 [==============================] - 1s 361ms/step - loss: 0.2691 - auc: 0.9978 - f1: 0.8330 - val_loss: 0.7223 - val_auc: 0.4976 - val_f1: 0.1473\n",
            "Epoch 8/20\n",
            "2/2 [==============================] - 1s 374ms/step - loss: 0.2394 - auc: 0.9994 - f1: 0.8817 - val_loss: 0.7417 - val_auc: 0.5177 - val_f1: 0.1580\n",
            "Epoch 9/20\n",
            "2/2 [==============================] - 1s 361ms/step - loss: 0.2310 - auc: 0.9992 - f1: 0.9019 - val_loss: 0.7470 - val_auc: 0.5428 - val_f1: 0.1836\n",
            "Epoch 10/20\n",
            "2/2 [==============================] - 1s 375ms/step - loss: 0.2148 - auc: 1.0000 - f1: 0.9269 - val_loss: 0.7593 - val_auc: 0.5633 - val_f1: 0.2186\n",
            "Epoch 11/20\n",
            "2/2 [==============================] - 1s 384ms/step - loss: 0.2088 - auc: 1.0000 - f1: 0.9381 - val_loss: 0.7882 - val_auc: 0.5821 - val_f1: 0.2574\n",
            "Epoch 12/20\n",
            "2/2 [==============================] - 1s 356ms/step - loss: 0.2035 - auc: 1.0000 - f1: 0.9513 - val_loss: 0.8213 - val_auc: 0.6016 - val_f1: 0.2929\n",
            "Epoch 13/20\n",
            "2/2 [==============================] - 1s 359ms/step - loss: 0.2036 - auc: 0.9998 - f1: 0.9543 - val_loss: 0.8541 - val_auc: 0.6147 - val_f1: 0.3132\n",
            "Epoch 14/20\n",
            "2/2 [==============================] - 1s 369ms/step - loss: 0.1916 - auc: 1.0000 - f1: 0.9727 - val_loss: 0.8827 - val_auc: 0.6287 - val_f1: 0.3233\n",
            "Epoch 15/20\n",
            "2/2 [==============================] - 1s 377ms/step - loss: 0.1937 - auc: 1.0000 - f1: 0.9695 - val_loss: 0.8993 - val_auc: 0.6453 - val_f1: 0.3382\n",
            "Epoch 16/20\n",
            "2/2 [==============================] - 1s 384ms/step - loss: 0.1936 - auc: 1.0000 - f1: 0.9698 - val_loss: 0.9060 - val_auc: 0.6697 - val_f1: 0.3609\n",
            "Epoch 17/20\n",
            "2/2 [==============================] - 1s 375ms/step - loss: 0.1862 - auc: 1.0000 - f1: 0.9836 - val_loss: 0.9255 - val_auc: 0.6640 - val_f1: 0.3757\n",
            "Epoch 18/20\n",
            "2/2 [==============================] - 1s 364ms/step - loss: 0.1950 - auc: 0.9995 - f1: 0.9775 - val_loss: 0.9687 - val_auc: 0.6673 - val_f1: 0.3863\n",
            "Epoch 19/20\n",
            "2/2 [==============================] - 1s 373ms/step - loss: 0.1864 - auc: 1.0000 - f1: 0.9834 - val_loss: 1.0182 - val_auc: 0.6667 - val_f1: 0.3847\n",
            "Epoch 20/20\n",
            "2/2 [==============================] - 1s 354ms/step - loss: 0.1885 - auc: 1.0000 - f1: 0.9800 - val_loss: 1.0644 - val_auc: 0.6828 - val_f1: 0.3800\n"
          ],
          "name": "stdout"
        }
      ]
    },
    {
      "cell_type": "code",
      "metadata": {
        "id": "ebivm75UIgSd",
        "colab": {
          "base_uri": "https://localhost:8080/",
          "height": 541
        },
        "outputId": "187795f1-1ec2-4c12-9cb4-b3f74506b12d"
      },
      "source": [
        "plot_history(history)"
      ],
      "execution_count": null,
      "outputs": [
        {
          "output_type": "display_data",
          "data": {
            "image/png": "[encoded data removed]",
            "text/plain": [
              "<Figure size 432x288 with 1 Axes>"
            ]
          },
          "metadata": {
            "tags": [],
            "needs_background": "light"
          }
        },
        {
          "output_type": "display_data",
          "data": {
            "image/png": "[encoded data removed]",
            "text/plain": [
              "<Figure size 432x288 with 1 Axes>"
            ]
          },
          "metadata": {
            "tags": [],
            "needs_background": "light"
          }
        }
      ]
    },
    {
      "cell_type": "code",
      "metadata": {
        "id": "_kqotOJlIgcq",
        "colab": {
          "base_uri": "https://localhost:8080/",
          "height": 170
        },
        "outputId": "8dfac6f2-5825-45b7-cdbc-61219bb6bad9"
      },
      "source": [
        "pred_2 = pd.DataFrame(mod.predict(np.array(data_image_test)) > 0.5, columns=y1.columns) * 1\n",
        "\n",
        "for i in [\n",
        "    Accuracy(),\n",
        "    Precision(),\n",
        "    Recall(),\n",
        "    AUC(),\n",
        "    TrueNegatives(),\n",
        "    TruePositives(),\n",
        "    FalseNegatives(),\n",
        "    FalsePositives()\n",
        "]:\n",
        "    _ = i.update_state(y_test.values, pred_2)\n",
        "    print(f'{i.name}: {\"%0.2f\" % i.result().numpy()}')\n",
        "print('f1:', f1(y_test.values.astype('float32'), pred_2.astype('float32')).numpy())"
      ],
      "execution_count": null,
      "outputs": [
        {
          "output_type": "stream",
          "text": [
            "accuracy: 0.87\n",
            "precision: 0.75\n",
            "recall: 0.68\n",
            "auc: 0.80\n",
            "true_negatives: 92.00\n",
            "true_positives: 21.00\n",
            "false_negatives: 10.00\n",
            "false_positives: 7.00\n",
            "f1: 0.7118644\n"
          ],
          "name": "stdout"
        }
      ]
    },
    {
      "cell_type": "code",
      "metadata": {
        "id": "mcGqp-toIgiY",
        "colab": {
          "base_uri": "https://localhost:8080/",
          "height": 34
        },
        "outputId": "39bdee57-0b3a-48b9-c66a-35c5fbaff4cb"
      },
      "source": [
        "pred_3 = pd.DataFrame(mod.predict(np.array(np.array(data_image))) > 0.5, columns=y1.columns) * 1\n",
        "sum(pred_3['LAD_st'])"
      ],
      "execution_count": null,
      "outputs": [
        {
          "output_type": "execute_result",
          "data": {
            "text/plain": [
              "3"
            ]
          },
          "metadata": {
            "tags": []
          },
          "execution_count": 271
        }
      ]
    },
    {
      "cell_type": "code",
      "metadata": {
        "id": "canWLzINa482",
        "colab": {
          "base_uri": "https://localhost:8080/",
          "height": 34
        },
        "outputId": "fea10944-a644-44a8-af27-7874172afd09"
      },
      "source": [
        "pred_3 = pd.DataFrame(mod.predict(np.array(np.array(data_image))) > 0.5, columns=y1.columns) * 1\n",
        "sum(pred_3['RCA_sub_occ'])"
      ],
      "execution_count": null,
      "outputs": [
        {
          "output_type": "execute_result",
          "data": {
            "text/plain": [
              "1"
            ]
          },
          "metadata": {
            "tags": []
          },
          "execution_count": 272
        }
      ]
    },
    {
      "cell_type": "code",
      "metadata": {
        "id": "4V2i9aMgIgof",
        "colab": {
          "base_uri": "https://localhost:8080/",
          "height": 379
        },
        "outputId": "6d4b71da-c80c-4ae4-d7a2-9328e9119310"
      },
      "source": [
        "pred_2"
      ],
      "execution_count": null,
      "outputs": [
        {
          "output_type": "execute_result",
          "data": {
            "text/html": [
              "<div>\n",
              "<style scoped>\n",
              "    .dataframe tbody tr th:only-of-type {\n",
              "        vertical-align: middle;\n",
              "    }\n",
              "\n",
              "    .dataframe tbody tr th {\n",
              "        vertical-align: top;\n",
              "    }\n",
              "\n",
              "    .dataframe thead th {\n",
              "        text-align: right;\n",
              "    }\n",
              "</style>\n",
              "<table border=\"1\" class=\"dataframe\">\n",
              "  <thead>\n",
              "    <tr style=\"text-align: right;\">\n",
              "      <th></th>\n",
              "      <th>completed_stenting_or_AKSh</th>\n",
              "      <th>verified_coronary_atherosclerosis</th>\n",
              "      <th>trunk_st</th>\n",
              "      <th>trunk_sub_occ</th>\n",
              "      <th>LAD_occ</th>\n",
              "      <th>LAD_sub_occ</th>\n",
              "      <th>LAD_st</th>\n",
              "      <th>lcx_occ</th>\n",
              "      <th>lcx_sub_occ</th>\n",
              "      <th>lcx_stenosis</th>\n",
              "      <th>RCA_occ</th>\n",
              "      <th>RCA_sub_occ</th>\n",
              "      <th>RCA_stenosis</th>\n",
              "    </tr>\n",
              "  </thead>\n",
              "  <tbody>\n",
              "    <tr>\n",
              "      <th>0</th>\n",
              "      <td>0</td>\n",
              "      <td>1</td>\n",
              "      <td>0</td>\n",
              "      <td>0</td>\n",
              "      <td>0</td>\n",
              "      <td>0</td>\n",
              "      <td>0</td>\n",
              "      <td>0</td>\n",
              "      <td>0</td>\n",
              "      <td>0</td>\n",
              "      <td>0</td>\n",
              "      <td>0</td>\n",
              "      <td>0</td>\n",
              "    </tr>\n",
              "    <tr>\n",
              "      <th>1</th>\n",
              "      <td>1</td>\n",
              "      <td>1</td>\n",
              "      <td>0</td>\n",
              "      <td>0</td>\n",
              "      <td>0</td>\n",
              "      <td>0</td>\n",
              "      <td>0</td>\n",
              "      <td>0</td>\n",
              "      <td>0</td>\n",
              "      <td>0</td>\n",
              "      <td>0</td>\n",
              "      <td>0</td>\n",
              "      <td>1</td>\n",
              "    </tr>\n",
              "    <tr>\n",
              "      <th>2</th>\n",
              "      <td>1</td>\n",
              "      <td>1</td>\n",
              "      <td>0</td>\n",
              "      <td>0</td>\n",
              "      <td>0</td>\n",
              "      <td>0</td>\n",
              "      <td>0</td>\n",
              "      <td>0</td>\n",
              "      <td>0</td>\n",
              "      <td>0</td>\n",
              "      <td>0</td>\n",
              "      <td>0</td>\n",
              "      <td>1</td>\n",
              "    </tr>\n",
              "    <tr>\n",
              "      <th>3</th>\n",
              "      <td>0</td>\n",
              "      <td>1</td>\n",
              "      <td>0</td>\n",
              "      <td>0</td>\n",
              "      <td>0</td>\n",
              "      <td>0</td>\n",
              "      <td>0</td>\n",
              "      <td>0</td>\n",
              "      <td>0</td>\n",
              "      <td>0</td>\n",
              "      <td>0</td>\n",
              "      <td>0</td>\n",
              "      <td>1</td>\n",
              "    </tr>\n",
              "    <tr>\n",
              "      <th>4</th>\n",
              "      <td>1</td>\n",
              "      <td>1</td>\n",
              "      <td>0</td>\n",
              "      <td>0</td>\n",
              "      <td>0</td>\n",
              "      <td>0</td>\n",
              "      <td>1</td>\n",
              "      <td>0</td>\n",
              "      <td>0</td>\n",
              "      <td>0</td>\n",
              "      <td>0</td>\n",
              "      <td>0</td>\n",
              "      <td>1</td>\n",
              "    </tr>\n",
              "    <tr>\n",
              "      <th>5</th>\n",
              "      <td>1</td>\n",
              "      <td>1</td>\n",
              "      <td>0</td>\n",
              "      <td>0</td>\n",
              "      <td>0</td>\n",
              "      <td>0</td>\n",
              "      <td>0</td>\n",
              "      <td>0</td>\n",
              "      <td>0</td>\n",
              "      <td>0</td>\n",
              "      <td>0</td>\n",
              "      <td>0</td>\n",
              "      <td>1</td>\n",
              "    </tr>\n",
              "    <tr>\n",
              "      <th>6</th>\n",
              "      <td>0</td>\n",
              "      <td>1</td>\n",
              "      <td>0</td>\n",
              "      <td>0</td>\n",
              "      <td>0</td>\n",
              "      <td>0</td>\n",
              "      <td>0</td>\n",
              "      <td>0</td>\n",
              "      <td>0</td>\n",
              "      <td>0</td>\n",
              "      <td>0</td>\n",
              "      <td>0</td>\n",
              "      <td>0</td>\n",
              "    </tr>\n",
              "    <tr>\n",
              "      <th>7</th>\n",
              "      <td>1</td>\n",
              "      <td>1</td>\n",
              "      <td>0</td>\n",
              "      <td>0</td>\n",
              "      <td>0</td>\n",
              "      <td>0</td>\n",
              "      <td>1</td>\n",
              "      <td>0</td>\n",
              "      <td>0</td>\n",
              "      <td>0</td>\n",
              "      <td>0</td>\n",
              "      <td>0</td>\n",
              "      <td>1</td>\n",
              "    </tr>\n",
              "    <tr>\n",
              "      <th>8</th>\n",
              "      <td>1</td>\n",
              "      <td>1</td>\n",
              "      <td>0</td>\n",
              "      <td>0</td>\n",
              "      <td>0</td>\n",
              "      <td>0</td>\n",
              "      <td>0</td>\n",
              "      <td>0</td>\n",
              "      <td>0</td>\n",
              "      <td>0</td>\n",
              "      <td>0</td>\n",
              "      <td>0</td>\n",
              "      <td>1</td>\n",
              "    </tr>\n",
              "    <tr>\n",
              "      <th>9</th>\n",
              "      <td>1</td>\n",
              "      <td>1</td>\n",
              "      <td>0</td>\n",
              "      <td>0</td>\n",
              "      <td>0</td>\n",
              "      <td>0</td>\n",
              "      <td>1</td>\n",
              "      <td>0</td>\n",
              "      <td>0</td>\n",
              "      <td>0</td>\n",
              "      <td>0</td>\n",
              "      <td>0</td>\n",
              "      <td>1</td>\n",
              "    </tr>\n",
              "  </tbody>\n",
              "</table>\n",
              "</div>"
            ],
            "text/plain": [
              "   completed_stenting_or_AKSh  ...  RCA_stenosis\n",
              "0                           0  ...             0\n",
              "1                           1  ...             1\n",
              "2                           1  ...             1\n",
              "3                           0  ...             1\n",
              "4                           1  ...             1\n",
              "5                           1  ...             1\n",
              "6                           0  ...             0\n",
              "7                           1  ...             1\n",
              "8                           1  ...             1\n",
              "9                           1  ...             1\n",
              "\n",
              "[10 rows x 13 columns]"
            ]
          },
          "metadata": {
            "tags": []
          },
          "execution_count": 273
        }
      ]
    },
    {
      "cell_type": "code",
      "metadata": {
        "id": "rIB6E-nkJjSu",
        "colab": {
          "base_uri": "https://localhost:8080/"
        },
        "outputId": "0f003691-ea3f-4967-db3d-d1930ce27f92"
      },
      "source": [
        "y_test"
      ],
      "execution_count": null,
      "outputs": [
        {
          "output_type": "execute_result",
          "data": {
            "text/html": [
              "<div>\n",
              "<style scoped>\n",
              "    .dataframe tbody tr th:only-of-type {\n",
              "        vertical-align: middle;\n",
              "    }\n",
              "\n",
              "    .dataframe tbody tr th {\n",
              "        vertical-align: top;\n",
              "    }\n",
              "\n",
              "    .dataframe thead th {\n",
              "        text-align: right;\n",
              "    }\n",
              "</style>\n",
              "<table border=\"1\" class=\"dataframe\">\n",
              "  <thead>\n",
              "    <tr style=\"text-align: right;\">\n",
              "      <th></th>\n",
              "      <th>completed_stenting_or_AKSh</th>\n",
              "      <th>verified_coronary_atherosclerosis</th>\n",
              "      <th>trunk_st</th>\n",
              "      <th>trunk_sub_occ</th>\n",
              "      <th>LAD_occ</th>\n",
              "      <th>LAD_sub_occ</th>\n",
              "      <th>LAD_st</th>\n",
              "      <th>lcx_occ</th>\n",
              "      <th>lcx_sub_occ</th>\n",
              "      <th>lcx_stenosis</th>\n",
              "      <th>RCA_occ</th>\n",
              "      <th>RCA_sub_occ</th>\n",
              "      <th>RCA_stenosis</th>\n",
              "    </tr>\n",
              "  </thead>\n",
              "  <tbody>\n",
              "    <tr>\n",
              "      <th>0</th>\n",
              "      <td>0</td>\n",
              "      <td>1</td>\n",
              "      <td>0</td>\n",
              "      <td>0</td>\n",
              "      <td>0</td>\n",
              "      <td>0</td>\n",
              "      <td>0</td>\n",
              "      <td>0</td>\n",
              "      <td>0</td>\n",
              "      <td>0</td>\n",
              "      <td>0</td>\n",
              "      <td>0</td>\n",
              "      <td>0</td>\n",
              "    </tr>\n",
              "    <tr>\n",
              "      <th>1</th>\n",
              "      <td>1</td>\n",
              "      <td>1</td>\n",
              "      <td>0</td>\n",
              "      <td>0</td>\n",
              "      <td>0</td>\n",
              "      <td>0</td>\n",
              "      <td>0</td>\n",
              "      <td>0</td>\n",
              "      <td>0</td>\n",
              "      <td>1</td>\n",
              "      <td>0</td>\n",
              "      <td>1</td>\n",
              "      <td>0</td>\n",
              "    </tr>\n",
              "    <tr>\n",
              "      <th>2</th>\n",
              "      <td>1</td>\n",
              "      <td>1</td>\n",
              "      <td>0</td>\n",
              "      <td>0</td>\n",
              "      <td>0</td>\n",
              "      <td>0</td>\n",
              "      <td>1</td>\n",
              "      <td>1</td>\n",
              "      <td>0</td>\n",
              "      <td>0</td>\n",
              "      <td>0</td>\n",
              "      <td>0</td>\n",
              "      <td>1</td>\n",
              "    </tr>\n",
              "    <tr>\n",
              "      <th>3</th>\n",
              "      <td>0</td>\n",
              "      <td>0</td>\n",
              "      <td>0</td>\n",
              "      <td>0</td>\n",
              "      <td>0</td>\n",
              "      <td>0</td>\n",
              "      <td>0</td>\n",
              "      <td>0</td>\n",
              "      <td>0</td>\n",
              "      <td>0</td>\n",
              "      <td>0</td>\n",
              "      <td>0</td>\n",
              "      <td>0</td>\n",
              "    </tr>\n",
              "    <tr>\n",
              "      <th>4</th>\n",
              "      <td>1</td>\n",
              "      <td>1</td>\n",
              "      <td>0</td>\n",
              "      <td>0</td>\n",
              "      <td>0</td>\n",
              "      <td>0</td>\n",
              "      <td>1</td>\n",
              "      <td>0</td>\n",
              "      <td>0</td>\n",
              "      <td>0</td>\n",
              "      <td>0</td>\n",
              "      <td>0</td>\n",
              "      <td>1</td>\n",
              "    </tr>\n",
              "    <tr>\n",
              "      <th>5</th>\n",
              "      <td>0</td>\n",
              "      <td>0</td>\n",
              "      <td>0</td>\n",
              "      <td>0</td>\n",
              "      <td>0</td>\n",
              "      <td>0</td>\n",
              "      <td>0</td>\n",
              "      <td>0</td>\n",
              "      <td>0</td>\n",
              "      <td>0</td>\n",
              "      <td>0</td>\n",
              "      <td>0</td>\n",
              "      <td>0</td>\n",
              "    </tr>\n",
              "    <tr>\n",
              "      <th>6</th>\n",
              "      <td>1</td>\n",
              "      <td>1</td>\n",
              "      <td>0</td>\n",
              "      <td>0</td>\n",
              "      <td>0</td>\n",
              "      <td>0</td>\n",
              "      <td>1</td>\n",
              "      <td>0</td>\n",
              "      <td>0</td>\n",
              "      <td>0</td>\n",
              "      <td>0</td>\n",
              "      <td>1</td>\n",
              "      <td>1</td>\n",
              "    </tr>\n",
              "    <tr>\n",
              "      <th>7</th>\n",
              "      <td>1</td>\n",
              "      <td>1</td>\n",
              "      <td>0</td>\n",
              "      <td>0</td>\n",
              "      <td>0</td>\n",
              "      <td>0</td>\n",
              "      <td>1</td>\n",
              "      <td>0</td>\n",
              "      <td>0</td>\n",
              "      <td>0</td>\n",
              "      <td>0</td>\n",
              "      <td>1</td>\n",
              "      <td>1</td>\n",
              "    </tr>\n",
              "    <tr>\n",
              "      <th>8</th>\n",
              "      <td>1</td>\n",
              "      <td>1</td>\n",
              "      <td>0</td>\n",
              "      <td>0</td>\n",
              "      <td>0</td>\n",
              "      <td>0</td>\n",
              "      <td>1</td>\n",
              "      <td>0</td>\n",
              "      <td>0</td>\n",
              "      <td>0</td>\n",
              "      <td>0</td>\n",
              "      <td>0</td>\n",
              "      <td>0</td>\n",
              "    </tr>\n",
              "    <tr>\n",
              "      <th>9</th>\n",
              "      <td>1</td>\n",
              "      <td>1</td>\n",
              "      <td>0</td>\n",
              "      <td>0</td>\n",
              "      <td>0</td>\n",
              "      <td>0</td>\n",
              "      <td>1</td>\n",
              "      <td>0</td>\n",
              "      <td>0</td>\n",
              "      <td>0</td>\n",
              "      <td>0</td>\n",
              "      <td>0</td>\n",
              "      <td>1</td>\n",
              "    </tr>\n",
              "  </tbody>\n",
              "</table>\n",
              "</div>"
            ],
            "text/plain": [
              "   completed_stenting_or_AKSh  ...  RCA_stenosis\n",
              "0                           0  ...             0\n",
              "1                           1  ...             0\n",
              "2                           1  ...             1\n",
              "3                           0  ...             0\n",
              "4                           1  ...             1\n",
              "5                           0  ...             0\n",
              "6                           1  ...             1\n",
              "7                           1  ...             1\n",
              "8                           1  ...             0\n",
              "9                           1  ...             1\n",
              "\n",
              "[10 rows x 13 columns]"
            ]
          },
          "metadata": {
            "tags": []
          },
          "execution_count": 233
        }
      ]
    },
    {
      "cell_type": "code",
      "metadata": {
        "id": "Qm53QlsoOgGY"
      },
      "source": [
        ""
      ],
      "execution_count": null,
      "outputs": []
    }
  ]
}